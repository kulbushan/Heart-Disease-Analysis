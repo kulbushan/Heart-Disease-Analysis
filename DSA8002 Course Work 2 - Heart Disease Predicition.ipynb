{
 "cells": [
  {
   "cell_type": "markdown",
   "metadata": {},
   "source": [
    " # Heart Disease Predicition."
   ]
  },
  {
   "cell_type": "markdown",
   "metadata": {},
   "source": [
    "There are many types of heart disease that occur in humans. By considering the diagnostic test, carried out based on symptoms, about heart disease a predication from the sample of population is elicited. Cleveland's solely heart disease dataset is drived from the UCI repository for analysis purpose.\n",
    "\n",
    "The link of the dataset is secured here:\n",
    "https://archive.ics.uci.edu/ml/datasets/Heart+Disease\n",
    " \n",
    "\n",
    "\n",
    "## Aim of analysis.\n",
    "To predict occurence of heart disease from the sample popluation. Among fourteen distinct numeric attribute, chest pain type, fasting bloog sugar, are used to predict the disease status. Below comparison and similaried of the data are been presented, using visualization and statistics techniques, to identify what symptoms leads to heart disease."
   ]
  },
  {
   "cell_type": "markdown",
   "metadata": {},
   "source": [
    "### 1. Processing dataset."
   ]
  },
  {
   "cell_type": "markdown",
   "metadata": {},
   "source": [
    "  #### 1.1. Read Data from CSV file."
   ]
  },
  {
   "cell_type": "code",
   "execution_count": 2,
   "metadata": {},
   "outputs": [
    {
     "data": {
      "text/plain": [
       "(303, 14)"
      ]
     },
     "execution_count": 2,
     "metadata": {},
     "output_type": "execute_result"
    }
   ],
   "source": [
    "import pandas as pds\n",
    "import matplotlib.pyplot as plt\n",
    "import numpy as np\n",
    "%matplotlib inline\n",
    "%matplotlib notebook\n",
    "\n",
    "# Used read_csv() of panda to read the data(values).\n",
    "# Passing file path as first argument.\n",
    "\n",
    "heart_dataset = pds.read_csv('https://raw.githubusercontent.com/kulbushan/Heart_disease_dataset/master/heart.csv', encoding=\"Latin-1\")\n",
    "heart_dataset.shape"
   ]
  },
  {
   "cell_type": "markdown",
   "metadata": {},
   "source": [
    "##### 1.1.1 Infomation about data."
   ]
  },
  {
   "cell_type": "code",
   "execution_count": 27,
   "metadata": {},
   "outputs": [
    {
     "name": "stdout",
     "output_type": "stream",
     "text": [
      "<class 'pandas.core.frame.DataFrame'>\n",
      "RangeIndex: 303 entries, 0 to 302\n",
      "Data columns (total 15 columns):\n",
      "Age                             303 non-null int64\n",
      "Sex                             303 non-null int64\n",
      "Chest_Pain_Type                 303 non-null int64\n",
      "Resting_Blood_Pressure          303 non-null int64\n",
      "Serum_Cholestoral               303 non-null int64\n",
      "Fasting_Blood_Sugar             303 non-null int64\n",
      "Resting_Electrocardiographic    303 non-null int64\n",
      "Max_Heart_Rate_Achieved         303 non-null int64\n",
      " Old_Peak                       303 non-null float64\n",
      "Slope_ST_Segment                301 non-null float64\n",
      "Colored_Fluoroscopy             303 non-null int64\n",
      "Thalassemia                     302 non-null float64\n",
      "Heart_Disease                   303 non-null int64\n",
      "count                           303 non-null int64\n",
      "age_group                       303 non-null category\n",
      "dtypes: category(1), float64(3), int64(11)\n",
      "memory usage: 33.7 KB\n"
     ]
    }
   ],
   "source": [
    "# Provides information about the data type, for individual columns in the data set.\n",
    "heart_dataset.info()"
   ]
  },
  {
   "cell_type": "code",
   "execution_count": 11,
   "metadata": {},
   "outputs": [],
   "source": [
    "# Code snippet appends \"age_group\" column to add data group wise.\n",
    "heart_dataset['count'] = 1\n",
    "heart_dataset['age_group'] = pds.cut(heart_dataset.Age, [10, 19, 20, 29, 30, 49, 50, 59, 70, 79])\n",
    "dfs = heart_dataset.pivot_table('count', index='age_group', columns='Sex', aggfunc='sum').fillna(0)"
   ]
  },
  {
   "cell_type": "markdown",
   "metadata": {},
   "source": [
    "#### 1.2. Glimpse of the heart disease."
   ]
  },
  {
   "cell_type": "code",
   "execution_count": 3,
   "metadata": {},
   "outputs": [
    {
     "data": {
      "text/html": [
       "<div>\n",
       "<style scoped>\n",
       "    .dataframe tbody tr th:only-of-type {\n",
       "        vertical-align: middle;\n",
       "    }\n",
       "\n",
       "    .dataframe tbody tr th {\n",
       "        vertical-align: top;\n",
       "    }\n",
       "\n",
       "    .dataframe thead th {\n",
       "        text-align: right;\n",
       "    }\n",
       "</style>\n",
       "<table border=\"1\" class=\"dataframe\">\n",
       "  <thead>\n",
       "    <tr style=\"text-align: right;\">\n",
       "      <th></th>\n",
       "      <th>Age</th>\n",
       "      <th>Sex</th>\n",
       "      <th>Chest_Pain_Type</th>\n",
       "      <th>Resting_Blood_Pressure</th>\n",
       "      <th>Serum_Cholestoral</th>\n",
       "      <th>Fasting_Blood_Sugar</th>\n",
       "      <th>Resting_Electrocardiographic</th>\n",
       "      <th>Max_Heart_Rate_Achieved</th>\n",
       "      <th>Exercise_Induced_Angina</th>\n",
       "      <th>Old_Peak</th>\n",
       "      <th>Slope_ST_Segment</th>\n",
       "      <th>Colored_Fluoroscopy</th>\n",
       "      <th>Thalassemia</th>\n",
       "      <th>Heart_Disease</th>\n",
       "    </tr>\n",
       "  </thead>\n",
       "  <tbody>\n",
       "    <tr>\n",
       "      <th>0</th>\n",
       "      <td>63</td>\n",
       "      <td>1</td>\n",
       "      <td>3</td>\n",
       "      <td>145</td>\n",
       "      <td>233</td>\n",
       "      <td>1</td>\n",
       "      <td>0</td>\n",
       "      <td>150</td>\n",
       "      <td>0</td>\n",
       "      <td>2.3</td>\n",
       "      <td>0.0</td>\n",
       "      <td>0</td>\n",
       "      <td>NaN</td>\n",
       "      <td>1</td>\n",
       "    </tr>\n",
       "    <tr>\n",
       "      <th>1</th>\n",
       "      <td>37</td>\n",
       "      <td>1</td>\n",
       "      <td>2</td>\n",
       "      <td>130</td>\n",
       "      <td>250</td>\n",
       "      <td>0</td>\n",
       "      <td>1</td>\n",
       "      <td>187</td>\n",
       "      <td>0</td>\n",
       "      <td>3.5</td>\n",
       "      <td>0.0</td>\n",
       "      <td>0</td>\n",
       "      <td>2.0</td>\n",
       "      <td>1</td>\n",
       "    </tr>\n",
       "    <tr>\n",
       "      <th>2</th>\n",
       "      <td>41</td>\n",
       "      <td>0</td>\n",
       "      <td>1</td>\n",
       "      <td>130</td>\n",
       "      <td>204</td>\n",
       "      <td>0</td>\n",
       "      <td>0</td>\n",
       "      <td>172</td>\n",
       "      <td>0</td>\n",
       "      <td>1.4</td>\n",
       "      <td>2.0</td>\n",
       "      <td>0</td>\n",
       "      <td>2.0</td>\n",
       "      <td>1</td>\n",
       "    </tr>\n",
       "    <tr>\n",
       "      <th>3</th>\n",
       "      <td>56</td>\n",
       "      <td>1</td>\n",
       "      <td>1</td>\n",
       "      <td>120</td>\n",
       "      <td>236</td>\n",
       "      <td>0</td>\n",
       "      <td>1</td>\n",
       "      <td>178</td>\n",
       "      <td>0</td>\n",
       "      <td>0.8</td>\n",
       "      <td>2.0</td>\n",
       "      <td>0</td>\n",
       "      <td>2.0</td>\n",
       "      <td>1</td>\n",
       "    </tr>\n",
       "  </tbody>\n",
       "</table>\n",
       "</div>"
      ],
      "text/plain": [
       "   Age  Sex  Chest_Pain_Type  Resting_Blood_Pressure  Serum_Cholestoral  \\\n",
       "0   63    1                3                     145                233   \n",
       "1   37    1                2                     130                250   \n",
       "2   41    0                1                     130                204   \n",
       "3   56    1                1                     120                236   \n",
       "\n",
       "   Fasting_Blood_Sugar  Resting_Electrocardiographic  Max_Heart_Rate_Achieved  \\\n",
       "0                    1                             0                      150   \n",
       "1                    0                             1                      187   \n",
       "2                    0                             0                      172   \n",
       "3                    0                             1                      178   \n",
       "\n",
       "   Exercise_Induced_Angina   Old_Peak  Slope_ST_Segment  Colored_Fluoroscopy  \\\n",
       "0                        0        2.3               0.0                    0   \n",
       "1                        0        3.5               0.0                    0   \n",
       "2                        0        1.4               2.0                    0   \n",
       "3                        0        0.8               2.0                    0   \n",
       "\n",
       "   Thalassemia  Heart_Disease  \n",
       "0          NaN              1  \n",
       "1          2.0              1  \n",
       "2          2.0              1  \n",
       "3          2.0              1  "
      ]
     },
     "execution_count": 3,
     "metadata": {},
     "output_type": "execute_result"
    }
   ],
   "source": [
    "# To generte first few observation from the heart disease dataset.\n",
    "heart_dataset.head(4)"
   ]
  },
  {
   "cell_type": "markdown",
   "metadata": {},
   "source": [
    "#### 1.3. Visualization of data set."
   ]
  },
  {
   "cell_type": "code",
   "execution_count": 5,
   "metadata": {},
   "outputs": [
    {
     "data": {
      "image/png": "[encoded data removed]",
      "text/plain": [
       "<Figure size 432x288 with 1 Axes>"
      ]
     },
     "metadata": {},
     "output_type": "display_data"
    }
   ],
   "source": [
    "# Code snippet presents, using pie chart, the differnce of absensce and presence of heart disease in total from the dataset.\n",
    "\n",
    "presence = heart_dataset.loc[heart_dataset['Heart_Disease'] == 1, 'Sex'].sum()\n",
    "absence = heart_dataset.loc[heart_dataset['Heart_Disease'] == 0, 'Sex'].sum()\n",
    "activities = ['Presence of disease', 'Absence of disease']\n",
    "cols = ['red', 'green']\n",
    "list_gender = [presence, absence]\n",
    "plt.pie(list_gender,\n",
    "       labels = activities,\n",
    "       colors = cols,\n",
    "       radius = 0.7,\n",
    "       startangle = 90,\n",
    "       shadow = True,\n",
    "       explode = (0, 0.1),\n",
    "       autopct = '%1.1f%%')\n",
    "\n",
    "plt.title('Heart Disease Status')\n",
    "plt.show()"
   ]
  },
  {
   "cell_type": "code",
   "execution_count": 8,
   "metadata": {},
   "outputs": [
    {
     "data": {
      "text/plain": [
       "<matplotlib.axes._subplots.AxesSubplot at 0x29db4e65d30>"
      ]
     },
     "execution_count": 8,
     "metadata": {},
     "output_type": "execute_result"
    },
    {
     "data": {
      "image/png": "[encoded data removed]",
      "text/plain": [
       "<Figure size 432x288 with 1 Axes>"
      ]
     },
     "metadata": {
      "needs_background": "light"
     },
     "output_type": "display_data"
    },
    {
     "data": {
      "image/png": "[encoded data removed]",
      "text/plain": [
       "<Figure size 432x288 with 1 Axes>"
      ]
     },
     "metadata": {
      "needs_background": "light"
     },
     "output_type": "display_data"
    }
   ],
   "source": [
    "# Code snippet presents, using stacked graph, the age group, gender and heart disease wise data. The data on the y-axis elicits \n",
    "# the accumulation of number of heart disease and x-axis presents age group wise(including gender) data presence.\n",
    "\n",
    "var = heart_dataset.groupby(['age_group', 'Sex']).Heart_Disease.sum()\n",
    "fig = plt.figure()\n",
    "ax1 = fig.add_subplot(1, 1, 1)\n",
    "ax1.set_xlabel('Age & Gender')\n",
    "ax1.set_ylabel('Count of Heart disease status')\n",
    "ax1.set_title(\"Heart Disease\")\n",
    "var.unstack().plot(kind='bar', stacked=True)"
   ]
  },
  {
   "cell_type": "markdown",
   "metadata": {},
   "source": [
    "##### Observation2.\n",
    "<a id='observation2'></a>"
   ]
  },
  {
   "cell_type": "code",
   "execution_count": 30,
   "metadata": {},
   "outputs": [
    {
     "data": {
      "image/png": "[encoded data removed]",
      "text/plain": [
       "<Figure size 432x288 with 1 Axes>"
      ]
     },
     "metadata": {
      "needs_background": "light"
     },
     "output_type": "display_data"
    }
   ],
   "source": [
    "# Code snippet is used to represents the age as a bin on x-axis and presence(1), absence(0) of heart disease on y-axis.\n",
    "plt.plot(heart_dataset.Age, heart_dataset.Heart_Disease, color='Green')\n",
    "plt.ylabel('Disease')\n",
    "plt.xlabel('Age')\n",
    "plt.show()                                                                                                    \n",
    "plt.close()"
   ]
  },
  {
   "cell_type": "code",
   "execution_count": 19,
   "metadata": {},
   "outputs": [
    {
     "data": {
      "text/plain": [
       "<BarContainer object of 303 artists>"
      ]
     },
     "execution_count": 19,
     "metadata": {},
     "output_type": "execute_result"
    },
    {
     "data": {
      "image/png": "[encoded data removed]",
      "text/plain": [
       "<Figure size 432x288 with 1 Axes>"
      ]
     },
     "metadata": {
      "needs_background": "light"
     },
     "output_type": "display_data"
    }
   ],
   "source": [
    "# Code snippet used to repesent the age as a bin on x-axis and chest pain type(categories) on y-axis.\n",
    "# Chest pain categories been: 1 - typical angina, 2 - atypical angina, 3 - non-anginal pain, 0 - asymptomatic.\n",
    "age = heart_dataset['Age']\n",
    "cp = heart_dataset['Chest_Pain_Type']\n",
    "plt.bar(age, cp, label ='Chest Pain', color='Green')"
   ]
  },
  {
   "cell_type": "markdown",
   "metadata": {},
   "source": [
    "### 2. Data cleaning."
   ]
  },
  {
   "cell_type": "code",
   "execution_count": 3,
   "metadata": {},
   "outputs": [
    {
     "data": {
      "text/plain": [
       "Age                             0\n",
       "Sex                             0\n",
       "Chest_Pain_Type                 0\n",
       "Resting_Blood_Pressure          0\n",
       "Serum_Cholestoral               0\n",
       "Fasting_Blood_Sugar             0\n",
       "Resting_Electrocardiographic    0\n",
       "Max_Heart_Rate_Achieved         0\n",
       "Exercise_Induced_Angina         0\n",
       " Old_Peak                       0\n",
       "Slope_ST_Segment                2\n",
       "Colored_Fluoroscopy             0\n",
       "Thalassemia                     1\n",
       "Heart_Disease                   0\n",
       "dtype: int64"
      ]
     },
     "execution_count": 3,
     "metadata": {},
     "output_type": "execute_result"
    }
   ],
   "source": [
    "# Identifying missing data in particular attribute.\n",
    "heart_dataset.isnull().sum()"
   ]
  },
  {
   "cell_type": "markdown",
   "metadata": {},
   "source": [
    "#### 2.1 Handling missing data."
   ]
  },
  {
   "cell_type": "code",
   "execution_count": 49,
   "metadata": {},
   "outputs": [
    {
     "data": {
      "text/plain": [
       "3"
      ]
     },
     "execution_count": 49,
     "metadata": {},
     "output_type": "execute_result"
    }
   ],
   "source": [
    "# Identifying missing data in total.\n",
    "heart_dataset.isna().sum().sum()"
   ]
  },
  {
   "cell_type": "code",
   "execution_count": 45,
   "metadata": {},
   "outputs": [],
   "source": [
    "# Replacing the missing data based on column.\n",
    "heart_dataset[\"Slope_ST_Segment\"].fillna(0, inplace=True)"
   ]
  },
  {
   "cell_type": "code",
   "execution_count": 53,
   "metadata": {},
   "outputs": [],
   "source": [
    "# # Replacing the missing data based on column.\n",
    "heart_dataset['Thalassemia'].fillna(2.0, inplace=True)"
   ]
  },
  {
   "cell_type": "markdown",
   "metadata": {},
   "source": [
    "#### 2.2. Removing irrelevant column."
   ]
  },
  {
   "cell_type": "code",
   "execution_count": 2,
   "metadata": {},
   "outputs": [],
   "source": [
    "# Removing irrelevant column.\n",
    "del heart_dataset['Exercise_Induced_Angina']"
   ]
  },
  {
   "cell_type": "code",
   "execution_count": 3,
   "metadata": {},
   "outputs": [
    {
     "data": {
      "text/plain": [
       "Age                             0\n",
       "Sex                             0\n",
       "Chest_Pain_Type                 0\n",
       "Resting_Blood_Pressure          0\n",
       "Serum_Cholestoral               0\n",
       "Fasting_Blood_Sugar             0\n",
       "Resting_Electrocardiographic    0\n",
       "Max_Heart_Rate_Achieved         0\n",
       " Old_Peak                       0\n",
       "Slope_ST_Segment                2\n",
       "Colored_Fluoroscopy             0\n",
       "Thalassemia                     1\n",
       "Heart_Disease                   0\n",
       "dtype: int64"
      ]
     },
     "execution_count": 3,
     "metadata": {},
     "output_type": "execute_result"
    }
   ],
   "source": [
    "# Review of attribute after replacing and removing with appropriate data.\n",
    "heart_dataset.isnull().sum()"
   ]
  },
  {
   "cell_type": "markdown",
   "metadata": {},
   "source": [
    "### 3. Analysis."
   ]
  },
  {
   "cell_type": "markdown",
   "metadata": {},
   "source": [
    "#### 3.1. Quantization of maximum heart rate."
   ]
  },
  {
   "cell_type": "code",
   "execution_count": 63,
   "metadata": {},
   "outputs": [
    {
     "data": {
      "text/plain": [
       "0       (146.0, 153.0]\n",
       "1       (176.6, 202.0]\n",
       "2       (170.0, 176.6]\n",
       "3       (176.6, 202.0]\n",
       "4       (159.0, 163.0]\n",
       "5       (146.0, 153.0]\n",
       "6       (146.0, 153.0]\n",
       "7       (170.0, 176.6]\n",
       "8       (159.0, 163.0]\n",
       "9       (170.0, 176.6]\n",
       "10      (159.0, 163.0]\n",
       "11      (130.0, 140.6]\n",
       "12      (170.0, 176.6]\n",
       "13      (140.6, 146.0]\n",
       "14      (159.0, 163.0]\n",
       "15      (153.0, 159.0]\n",
       "16      (170.0, 176.6]\n",
       "17     (70.999, 116.0]\n",
       "18      (170.0, 176.6]\n",
       "19      (146.0, 153.0]\n",
       "20      (159.0, 163.0]\n",
       "21      (176.6, 202.0]\n",
       "22      (176.6, 202.0]\n",
       "23      (130.0, 140.6]\n",
       "24      (176.6, 202.0]\n",
       "25      (159.0, 163.0]\n",
       "26      (153.0, 159.0]\n",
       "27      (116.0, 130.0]\n",
       "28      (153.0, 159.0]\n",
       "29      (146.0, 153.0]\n",
       "            ...       \n",
       "273     (153.0, 159.0]\n",
       "274     (116.0, 130.0]\n",
       "275     (163.0, 170.0]\n",
       "276    (70.999, 116.0]\n",
       "277     (140.6, 146.0]\n",
       "278     (146.0, 153.0]\n",
       "279     (116.0, 130.0]\n",
       "280     (116.0, 130.0]\n",
       "281     (153.0, 159.0]\n",
       "282     (130.0, 140.6]\n",
       "283     (176.6, 202.0]\n",
       "284     (130.0, 140.6]\n",
       "285     (116.0, 130.0]\n",
       "286     (159.0, 163.0]\n",
       "287     (163.0, 170.0]\n",
       "288     (140.6, 146.0]\n",
       "289     (116.0, 130.0]\n",
       "290     (159.0, 163.0]\n",
       "291     (130.0, 140.6]\n",
       "292     (140.6, 146.0]\n",
       "293     (146.0, 153.0]\n",
       "294     (140.6, 146.0]\n",
       "295     (140.6, 146.0]\n",
       "296     (130.0, 140.6]\n",
       "297    (70.999, 116.0]\n",
       "298     (116.0, 130.0]\n",
       "299     (130.0, 140.6]\n",
       "300     (140.6, 146.0]\n",
       "301    (70.999, 116.0]\n",
       "302     (170.0, 176.6]\n",
       "Name: Max_Heart_Rate_Achieved, Length: 303, dtype: category\n",
       "Categories (10, interval[float64]): [(70.999, 116.0] < (116.0, 130.0] < (130.0, 140.6] < (140.6, 146.0] ... (159.0, 163.0] < (163.0, 170.0] < (170.0, 176.6] < (176.6, 202.0]]"
      ]
     },
     "execution_count": 63,
     "metadata": {},
     "output_type": "execute_result"
    }
   ],
   "source": [
    "# Quantization based on the heart rate achieved by individual.\n",
    "q = pds.qcut(heart_dataset['Max_Heart_Rate_Achieved'], 10)\n",
    "q"
   ]
  },
  {
   "cell_type": "markdown",
   "metadata": {},
   "source": [
    "#### 3.2. Grouping data."
   ]
  },
  {
   "cell_type": "markdown",
   "metadata": {},
   "source": [
    "##### Observation 1\n",
    "<a id='observation1'></a>"
   ]
  },
  {
   "cell_type": "code",
   "execution_count": 31,
   "metadata": {},
   "outputs": [
    {
     "data": {
      "text/plain": [
       "Sex  Heart_Disease\n",
       "0    0                 6\n",
       "     1                 6\n",
       "1    0                16\n",
       "     1                17\n",
       "Name: Fasting_Blood_Sugar, dtype: int64"
      ]
     },
     "execution_count": 31,
     "metadata": {},
     "output_type": "execute_result"
    }
   ],
   "source": [
    "# Grouping data based on gender and heart disease status(presence or absence).\n",
    "heart_dataset.groupby(['Sex', 'Heart_Disease'])['Fasting_Blood_Sugar'].sum()"
   ]
  },
  {
   "cell_type": "code",
   "execution_count": 39,
   "metadata": {},
   "outputs": [
    {
     "data": {
      "text/plain": [
       "Sex  Heart_Disease\n",
       "0    0                 6\n",
       "     1                 6\n",
       "1    0                16\n",
       "     1                17\n",
       "Name: Fasting_Blood_Sugar, dtype: int64"
      ]
     },
     "execution_count": 39,
     "metadata": {},
     "output_type": "execute_result"
    }
   ],
   "source": [
    "# Grouping data based on gender and heart disease status(presence or absence) \n",
    "# and elicited the total count of fasting blood sugar based on group of individuals.\n",
    "\n",
    "heart_dataset[heart_dataset['Fasting_Blood_Sugar']==1].groupby(['Sex', 'Heart_Disease'])['Fasting_Blood_Sugar'].count()"
   ]
  },
  {
   "cell_type": "code",
   "execution_count": 15,
   "metadata": {},
   "outputs": [
    {
     "data": {
      "text/plain": [
       "age_group\n",
       "(10, 19]      0\n",
       "(19, 20]      0\n",
       "(20, 29]      1\n",
       "(29, 30]      0\n",
       "(30, 49]     87\n",
       "(49, 50]      7\n",
       "(50, 59]    118\n",
       "(59, 70]     84\n",
       "(70, 79]      6\n",
       "dtype: int64"
      ]
     },
     "execution_count": 15,
     "metadata": {},
     "output_type": "execute_result"
    }
   ],
   "source": [
    "# Grouping data based on age group attribute, elicited total number of gender(male, and female) in particular group.\n",
    "age_grp = heart_dataset.groupby(['age_group']).size()\n",
    "age_grp"
   ]
  },
  {
   "cell_type": "code",
   "execution_count": 22,
   "metadata": {},
   "outputs": [
    {
     "data": {
      "text/plain": [
       "age_group  Sex  Heart_Disease\n",
       "(20, 29]   1    1                202.000000\n",
       "(30, 49]   0    0                136.000000\n",
       "                1                162.913043\n",
       "           1    0                145.280000\n",
       "                1                171.052632\n",
       "(49, 50]   0    1                159.666667\n",
       "           1    0                139.000000\n",
       "                1                163.000000\n",
       "(50, 59]   0    0                141.000000\n",
       "                1                154.333333\n",
       "           1    0                136.851064\n",
       "                1                159.025000\n",
       "(59, 70]   0    0                144.000000\n",
       "                1                148.450000\n",
       "           1    0                135.131579\n",
       "                1                140.846154\n",
       "(70, 79]   0    1                130.800000\n",
       "           1    0                162.000000\n",
       "Name: Max_Heart_Rate_Achieved, dtype: float64"
      ]
     },
     "execution_count": 22,
     "metadata": {},
     "output_type": "execute_result"
    }
   ],
   "source": [
    "# Grouping data based on age group attribute, gender (male =1 and female =0), \n",
    "# and heart disease(presence =1 and absence =0),to achieve mean.\n",
    "heart_dataset.groupby(['age_group','Sex', 'Heart_Disease'])['Max_Heart_Rate_Achieved'].mean()"
   ]
  },
  {
   "cell_type": "code",
   "execution_count": 21,
   "metadata": {},
   "outputs": [
    {
     "data": {
      "text/plain": [
       "age_group  Sex  Heart_Disease\n",
       "(20, 29]   1    1                 0\n",
       "(30, 49]   0    0                 1\n",
       "                1                 0\n",
       "           1    0                 2\n",
       "                1                 3\n",
       "(49, 50]   0    1                 0\n",
       "           1    0                 0\n",
       "                1                 0\n",
       "(50, 59]   0    0                 3\n",
       "                1                 3\n",
       "           1    0                 8\n",
       "                1                10\n",
       "(59, 70]   0    0                 2\n",
       "                1                 2\n",
       "           1    0                 6\n",
       "                1                 4\n",
       "(70, 79]   0    1                 1\n",
       "           1    0                 0\n",
       "Name: Fasting_Blood_Sugar, dtype: int64"
      ]
     },
     "execution_count": 21,
     "metadata": {},
     "output_type": "execute_result"
    }
   ],
   "source": [
    "# Grouping data based on age group attribute, gender (male =1 and female =0), \n",
    "# and heart disease(presence =1 and absence =0),to acquire fasting blood sugar in total.\n",
    "heart_dataset.groupby(['age_group','Sex', 'Heart_Disease'])['Fasting_Blood_Sugar'].sum()"
   ]
  },
  {
   "cell_type": "markdown",
   "metadata": {},
   "source": [
    "#### 3.3. Performing statistics on dataset."
   ]
  },
  {
   "cell_type": "code",
   "execution_count": 5,
   "metadata": {},
   "outputs": [
    {
     "data": {
      "text/html": [
       "<div>\n",
       "<style scoped>\n",
       "    .dataframe tbody tr th:only-of-type {\n",
       "        vertical-align: middle;\n",
       "    }\n",
       "\n",
       "    .dataframe tbody tr th {\n",
       "        vertical-align: top;\n",
       "    }\n",
       "\n",
       "    .dataframe thead th {\n",
       "        text-align: right;\n",
       "    }\n",
       "</style>\n",
       "<table border=\"1\" class=\"dataframe\">\n",
       "  <thead>\n",
       "    <tr style=\"text-align: right;\">\n",
       "      <th></th>\n",
       "      <th>Age</th>\n",
       "      <th>Sex</th>\n",
       "      <th>Chest_Pain_Type</th>\n",
       "      <th>Resting_Blood_Pressure</th>\n",
       "      <th>Serum_Cholestoral</th>\n",
       "      <th>Fasting_Blood_Sugar</th>\n",
       "      <th>Resting_Electrocardiographic</th>\n",
       "      <th>Max_Heart_Rate_Achieved</th>\n",
       "      <th>Old_Peak</th>\n",
       "      <th>Slope_ST_Segment</th>\n",
       "      <th>Colored_Fluoroscopy</th>\n",
       "      <th>Thalassemia</th>\n",
       "      <th>Heart_Disease</th>\n",
       "    </tr>\n",
       "  </thead>\n",
       "  <tbody>\n",
       "    <tr>\n",
       "      <th>count</th>\n",
       "      <td>5.000000</td>\n",
       "      <td>5.000000</td>\n",
       "      <td>5.000000</td>\n",
       "      <td>5.000000</td>\n",
       "      <td>5.000000</td>\n",
       "      <td>5.000000</td>\n",
       "      <td>5.000000</td>\n",
       "      <td>5.00000</td>\n",
       "      <td>5.000000</td>\n",
       "      <td>5.000000</td>\n",
       "      <td>5.0</td>\n",
       "      <td>4.0</td>\n",
       "      <td>5.0</td>\n",
       "    </tr>\n",
       "    <tr>\n",
       "      <th>mean</th>\n",
       "      <td>50.800000</td>\n",
       "      <td>0.600000</td>\n",
       "      <td>1.400000</td>\n",
       "      <td>129.000000</td>\n",
       "      <td>255.400000</td>\n",
       "      <td>0.200000</td>\n",
       "      <td>0.600000</td>\n",
       "      <td>170.00000</td>\n",
       "      <td>1.720000</td>\n",
       "      <td>1.200000</td>\n",
       "      <td>0.0</td>\n",
       "      <td>2.0</td>\n",
       "      <td>1.0</td>\n",
       "    </tr>\n",
       "    <tr>\n",
       "      <th>std</th>\n",
       "      <td>11.189281</td>\n",
       "      <td>0.547723</td>\n",
       "      <td>1.140175</td>\n",
       "      <td>10.246951</td>\n",
       "      <td>57.600347</td>\n",
       "      <td>0.447214</td>\n",
       "      <td>0.547723</td>\n",
       "      <td>14.19507</td>\n",
       "      <td>1.194571</td>\n",
       "      <td>1.095445</td>\n",
       "      <td>0.0</td>\n",
       "      <td>0.0</td>\n",
       "      <td>0.0</td>\n",
       "    </tr>\n",
       "    <tr>\n",
       "      <th>min</th>\n",
       "      <td>37.000000</td>\n",
       "      <td>0.000000</td>\n",
       "      <td>0.000000</td>\n",
       "      <td>120.000000</td>\n",
       "      <td>204.000000</td>\n",
       "      <td>0.000000</td>\n",
       "      <td>0.000000</td>\n",
       "      <td>150.00000</td>\n",
       "      <td>0.600000</td>\n",
       "      <td>0.000000</td>\n",
       "      <td>0.0</td>\n",
       "      <td>2.0</td>\n",
       "      <td>1.0</td>\n",
       "    </tr>\n",
       "    <tr>\n",
       "      <th>25%</th>\n",
       "      <td>41.000000</td>\n",
       "      <td>0.000000</td>\n",
       "      <td>1.000000</td>\n",
       "      <td>120.000000</td>\n",
       "      <td>233.000000</td>\n",
       "      <td>0.000000</td>\n",
       "      <td>0.000000</td>\n",
       "      <td>163.00000</td>\n",
       "      <td>0.800000</td>\n",
       "      <td>0.000000</td>\n",
       "      <td>0.0</td>\n",
       "      <td>2.0</td>\n",
       "      <td>1.0</td>\n",
       "    </tr>\n",
       "    <tr>\n",
       "      <th>50%</th>\n",
       "      <td>56.000000</td>\n",
       "      <td>1.000000</td>\n",
       "      <td>1.000000</td>\n",
       "      <td>130.000000</td>\n",
       "      <td>236.000000</td>\n",
       "      <td>0.000000</td>\n",
       "      <td>1.000000</td>\n",
       "      <td>172.00000</td>\n",
       "      <td>1.400000</td>\n",
       "      <td>2.000000</td>\n",
       "      <td>0.0</td>\n",
       "      <td>2.0</td>\n",
       "      <td>1.0</td>\n",
       "    </tr>\n",
       "    <tr>\n",
       "      <th>75%</th>\n",
       "      <td>57.000000</td>\n",
       "      <td>1.000000</td>\n",
       "      <td>2.000000</td>\n",
       "      <td>130.000000</td>\n",
       "      <td>250.000000</td>\n",
       "      <td>0.000000</td>\n",
       "      <td>1.000000</td>\n",
       "      <td>178.00000</td>\n",
       "      <td>2.300000</td>\n",
       "      <td>2.000000</td>\n",
       "      <td>0.0</td>\n",
       "      <td>2.0</td>\n",
       "      <td>1.0</td>\n",
       "    </tr>\n",
       "    <tr>\n",
       "      <th>max</th>\n",
       "      <td>63.000000</td>\n",
       "      <td>1.000000</td>\n",
       "      <td>3.000000</td>\n",
       "      <td>145.000000</td>\n",
       "      <td>354.000000</td>\n",
       "      <td>1.000000</td>\n",
       "      <td>1.000000</td>\n",
       "      <td>187.00000</td>\n",
       "      <td>3.500000</td>\n",
       "      <td>2.000000</td>\n",
       "      <td>0.0</td>\n",
       "      <td>2.0</td>\n",
       "      <td>1.0</td>\n",
       "    </tr>\n",
       "  </tbody>\n",
       "</table>\n",
       "</div>"
      ],
      "text/plain": [
       "             Age       Sex  Chest_Pain_Type  Resting_Blood_Pressure  \\\n",
       "count   5.000000  5.000000         5.000000                5.000000   \n",
       "mean   50.800000  0.600000         1.400000              129.000000   \n",
       "std    11.189281  0.547723         1.140175               10.246951   \n",
       "min    37.000000  0.000000         0.000000              120.000000   \n",
       "25%    41.000000  0.000000         1.000000              120.000000   \n",
       "50%    56.000000  1.000000         1.000000              130.000000   \n",
       "75%    57.000000  1.000000         2.000000              130.000000   \n",
       "max    63.000000  1.000000         3.000000              145.000000   \n",
       "\n",
       "       Serum_Cholestoral  Fasting_Blood_Sugar  Resting_Electrocardiographic  \\\n",
       "count           5.000000             5.000000                      5.000000   \n",
       "mean          255.400000             0.200000                      0.600000   \n",
       "std            57.600347             0.447214                      0.547723   \n",
       "min           204.000000             0.000000                      0.000000   \n",
       "25%           233.000000             0.000000                      0.000000   \n",
       "50%           236.000000             0.000000                      1.000000   \n",
       "75%           250.000000             0.000000                      1.000000   \n",
       "max           354.000000             1.000000                      1.000000   \n",
       "\n",
       "       Max_Heart_Rate_Achieved   Old_Peak  Slope_ST_Segment  \\\n",
       "count                  5.00000   5.000000          5.000000   \n",
       "mean                 170.00000   1.720000          1.200000   \n",
       "std                   14.19507   1.194571          1.095445   \n",
       "min                  150.00000   0.600000          0.000000   \n",
       "25%                  163.00000   0.800000          0.000000   \n",
       "50%                  172.00000   1.400000          2.000000   \n",
       "75%                  178.00000   2.300000          2.000000   \n",
       "max                  187.00000   3.500000          2.000000   \n",
       "\n",
       "       Colored_Fluoroscopy  Thalassemia  Heart_Disease  \n",
       "count                  5.0          4.0            5.0  \n",
       "mean                   0.0          2.0            1.0  \n",
       "std                    0.0          0.0            0.0  \n",
       "min                    0.0          2.0            1.0  \n",
       "25%                    0.0          2.0            1.0  \n",
       "50%                    0.0          2.0            1.0  \n",
       "75%                    0.0          2.0            1.0  \n",
       "max                    0.0          2.0            1.0  "
      ]
     },
     "execution_count": 5,
     "metadata": {},
     "output_type": "execute_result"
    }
   ],
   "source": [
    "# Build simple statistics based of dataset using describe() function of panda.\n",
    "heart_dataset.head().describe(include=[np.number])"
   ]
  },
  {
   "cell_type": "code",
   "execution_count": 24,
   "metadata": {},
   "outputs": [
    {
     "data": {
      "text/plain": [
       "Heart_Disease\n",
       "0    100, 200\n",
       "1     94, 180\n",
       "Name: Resting_Blood_Pressure, dtype: object"
      ]
     },
     "execution_count": 24,
     "metadata": {},
     "output_type": "execute_result"
    }
   ],
   "source": [
    "## Based on grouping data finding minimum and maximum Resting_Blood_Pressure from the dataset.\n",
    "heart_dataset.groupby([\"Heart_Disease\"])[\"Resting_Blood_Pressure\"].min().astype(str) + ', ' +  heart_dataset.groupby([\"Heart_Disease\"])[\"Resting_Blood_Pressure\"].max().astype(str)"
   ]
  },
  {
   "cell_type": "code",
   "execution_count": 7,
   "metadata": {},
   "outputs": [],
   "source": [
    "# Build simple statistics based of dataset using functions of Numpy.\n",
    "\n",
    "# Calculation using min, max, standard deviation, mean, and average on gender attribute based on chest pain and heart disease.\n",
    "datanp = np.genfromtxt(\"https://raw.githubusercontent.com/kulbushan/Heart_disease_dataset/master/heart.csv\", names =True, \n",
    "                       delimiter=',', dtype = None)\n",
    "datanp\n",
    "\n",
    "def gendercalulation(sex, x):\n",
    "    return (datanp['Sex'] == x).sum()\n",
    "\n",
    "\n",
    "summary_list = []\n",
    "for cp_np in np.unique(datanp['Chest_Pain_Type']):\n",
    "    for heart_np in np.unique(datanp['Heart_Disease']):\n",
    "        data_to_sum = datanp[(datanp['Chest_Pain_Type'] == cp_np) & (datanp['Heart_Disease'] == heart_np)]\n",
    "        \n",
    "        mean = data_to_sum['Sex'].mean()\n",
    "        sd = data_to_sum['Sex'].std()\n",
    "        max_sex = data_to_sum['Sex'].max()\n",
    "        min_sex =  data_to_sum['Sex'].min()\n",
    "        sum_male =  gendercalulation(data_to_sum, 1) / data_to_sum['Sex'].sum()\n",
    "        sum_female = gendercalulation(data_to_sum, 0) /  data_to_sum['Sex'].sum()\n",
    "        ps = np.percentile(data_to_sum['Sex'], [25, 75] )\n",
    "        #summary_list.append((mean, sd, max_sex, min_sex, ps[0], ps[1], cp_np, heart_np, sum_male, sum_female))\n",
    "        summary_list.append((cp_np, heart_np, sum_male, sum_female))\n"
   ]
  },
  {
   "cell_type": "code",
   "execution_count": 36,
   "metadata": {},
   "outputs": [
    {
     "name": "stdout",
     "output_type": "stream",
     "text": [
      "[[ 0.          0.          2.4939759   1.15662651]\n",
      " [ 0.          1.          9.85714286  4.57142857]\n",
      " [ 1.          0.         29.57142857 13.71428571]\n",
      " [ 1.          1.          8.28        3.84      ]\n",
      " [ 2.          0.         12.17647059  5.64705882]\n",
      " [ 2.          1.          5.91428571  2.74285714]\n",
      " [ 3.          0.         29.57142857 13.71428571]\n",
      " [ 3.          1.         17.25        8.        ]]\n"
     ]
    }
   ],
   "source": [
    "# Generating sample list containing paramerter: chest pain category, heart disease status(presence/absence), \n",
    "# average of male, and average of female.\n",
    "\n",
    "results = np.array(summary_list, dtype=None)\n",
    "np.set_printoptions(suppress=True)\n",
    "print(results)"
   ]
  },
  {
   "cell_type": "markdown",
   "metadata": {},
   "source": [
    "##### Observation 3\n",
    "<a id=observation3></a>"
   ]
  },
  {
   "cell_type": "code",
   "execution_count": 38,
   "metadata": {},
   "outputs": [
    {
     "name": "stdout",
     "output_type": "stream",
     "text": [
      "(3, 1, 17.25, 8.0)\n"
     ]
    }
   ],
   "source": [
    "# Considering the statistics, an observation can be drawn that from a sample population: On an average, \n",
    "# more number of male tend to have heart disease in contrast with female.\n",
    "\n",
    "print((str(summary_list[7:]).strip('[]')))"
   ]
  },
  {
   "cell_type": "code",
   "execution_count": 16,
   "metadata": {},
   "outputs": [
    {
     "data": {
      "text/plain": [
       "1    207\n",
       "0     96\n",
       "Name: Sex, dtype: int64"
      ]
     },
     "execution_count": 16,
     "metadata": {},
     "output_type": "execute_result"
    }
   ],
   "source": [
    "# Code snippet generates number of indiviuals for male(1) and female(0) category.\n",
    "gender = heart_dataset[\"Sex\"].value_counts(dropna=False)\n",
    "gender"
   ]
  },
  {
   "cell_type": "code",
   "execution_count": 18,
   "metadata": {},
   "outputs": [
    {
     "data": {
      "text/plain": [
       "0    143\n",
       "2     87\n",
       "1     50\n",
       "3     23\n",
       "Name: Chest_Pain_Type, dtype: int64"
      ]
     },
     "execution_count": 18,
     "metadata": {},
     "output_type": "execute_result"
    }
   ],
   "source": [
    "# Code snippet generates number of indiviuals for each category:  \n",
    "# 1 - typical angina, 2 - atypical angina, 3 - non-anginal pain, 0 - asymptomatic.\n",
    "cp_typ = heart_dataset[\"Chest_Pain_Type\"].value_counts(dropna=False)\n",
    "cp_typ"
   ]
  },
  {
   "cell_type": "markdown",
   "metadata": {},
   "source": [
    "### 4. Conclusion."
   ]
  },
  {
   "cell_type": "markdown",
   "metadata": {},
   "source": [
    "**1.** From [observation 1](#observation1): <br>\n",
    "_1.1._ The observation has compared fasting blood sugar in male's with presence(fbs > 120 mg/dL) and absence(fbs < 120 mg/dL) and found that they are essentially identical. <br>\n",
    "_1.2._  Unlike than male's, there are 1 percent of female's with higher number of milligrams per decilitre of fasting blood tend to have heart disease. <br>\n",
    "**2.** From the [observation 2](#observation2), we can roughly predict that people with age group between 40 to 68 are in tendency to have heart disease. <br>\n",
    "**3.** Predication based on [observation 3](#observation3) manifests that, in contrast to females, the data manifest that there is seventeen percent on an average male, with non-anginal chest pain which resulted to cause heart disease. <br>\n",
    "\n",
    "\n",
    "\n",
    "Considering visualization and predictive modelling techniques on given Cleveland heart disease dataset, a conclusion can be drawn, that, individual with gender as **male**,  **chest pain type > 0**, **30 < age < 69** , **fasting blood sugar < 120 mg/dl**  (**) are likely to result in presence of heart disease."
   ]
  }
 ],
 "metadata": {
  "kernelspec": {
   "display_name": "Python 3",
   "language": "python",
   "name": "python3"
  },
  "language_info": {
   "codemirror_mode": {
    "name": "ipython",
    "version": 3
   },
   "file_extension": ".py",
   "mimetype": "text/x-python",
   "name": "python",
   "nbconvert_exporter": "python",
   "pygments_lexer": "ipython3",
   "version": "3.7.0"
  }
 },
 "nbformat": 4,
 "nbformat_minor": 2
}
